{
 "cells": [
  {
   "cell_type": "markdown",
   "id": "685e7771-177c-4012-8fc9-505183baca36",
   "metadata": {},
   "source": [
    "# Infromation from satellite source\n",
    "este saca la data satelital de los puntos donde están las estaciones"
   ]
  },
  {
   "cell_type": "code",
   "execution_count": 1,
   "id": "74507959-f388-43b6-8406-a96055725d8a",
   "metadata": {
    "tags": []
   },
   "outputs": [],
   "source": [
    "import pandas as pd"
   ]
  },
  {
   "cell_type": "code",
   "execution_count": 2,
   "id": "3a66398a-472f-4d89-81f4-110322343234",
   "metadata": {
    "tags": []
   },
   "outputs": [
    {
     "name": "stdout",
     "output_type": "stream",
     "text": [
      "/home/jupyter\n"
     ]
    },
    {
     "name": "stderr",
     "output_type": "stream",
     "text": [
      "/opt/conda/lib/python3.10/site-packages/IPython/core/magics/osm.py:393: UserWarning: using bookmarks requires you to install the `pickleshare` library.\n",
      "  bkms = self.shell.db.get('bookmarks', {})\n",
      "/opt/conda/lib/python3.10/site-packages/IPython/core/magics/osm.py:428: UserWarning: using dhist requires you to install the `pickleshare` library.\n",
      "  self.shell.db['dhist'] = compress_dhist(dhist)[-100:]\n"
     ]
    }
   ],
   "source": [
    "cd\n"
   ]
  },
  {
   "cell_type": "code",
   "execution_count": 3,
   "id": "3bdb3ab6-fd4a-4ae7-882e-15a3f0317d77",
   "metadata": {
    "tags": []
   },
   "outputs": [
    {
     "data": {
      "text/html": [
       "<div>\n",
       "<style scoped>\n",
       "    .dataframe tbody tr th:only-of-type {\n",
       "        vertical-align: middle;\n",
       "    }\n",
       "\n",
       "    .dataframe tbody tr th {\n",
       "        vertical-align: top;\n",
       "    }\n",
       "\n",
       "    .dataframe thead th {\n",
       "        text-align: right;\n",
       "    }\n",
       "</style>\n",
       "<table border=\"1\" class=\"dataframe\">\n",
       "  <thead>\n",
       "    <tr style=\"text-align: right;\">\n",
       "      <th></th>\n",
       "      <th>lat</th>\n",
       "      <th>lon</th>\n",
       "      <th>dpto</th>\n",
       "      <th>mun</th>\n",
       "      <th>date</th>\n",
       "      <th>prec</th>\n",
       "      <th>station</th>\n",
       "    </tr>\n",
       "  </thead>\n",
       "  <tbody>\n",
       "    <tr>\n",
       "      <th>0</th>\n",
       "      <td>4.393330</td>\n",
       "      <td>-72.988890</td>\n",
       "      <td>META</td>\n",
       "      <td>UPIA</td>\n",
       "      <td>2015-07-06</td>\n",
       "      <td>0.0</td>\n",
       "      <td>BARRANCA_DE_UPIA</td>\n",
       "    </tr>\n",
       "    <tr>\n",
       "      <th>1</th>\n",
       "      <td>4.393330</td>\n",
       "      <td>-72.988890</td>\n",
       "      <td>META</td>\n",
       "      <td>UPIA</td>\n",
       "      <td>2015-07-07</td>\n",
       "      <td>0.0</td>\n",
       "      <td>BARRANCA_DE_UPIA</td>\n",
       "    </tr>\n",
       "    <tr>\n",
       "      <th>2</th>\n",
       "      <td>4.393330</td>\n",
       "      <td>-72.988890</td>\n",
       "      <td>META</td>\n",
       "      <td>UPIA</td>\n",
       "      <td>2015-07-08</td>\n",
       "      <td>NaN</td>\n",
       "      <td>BARRANCA_DE_UPIA</td>\n",
       "    </tr>\n",
       "    <tr>\n",
       "      <th>3</th>\n",
       "      <td>4.393330</td>\n",
       "      <td>-72.988890</td>\n",
       "      <td>META</td>\n",
       "      <td>UPIA</td>\n",
       "      <td>2015-07-09</td>\n",
       "      <td>NaN</td>\n",
       "      <td>BARRANCA_DE_UPIA</td>\n",
       "    </tr>\n",
       "    <tr>\n",
       "      <th>4</th>\n",
       "      <td>4.393330</td>\n",
       "      <td>-72.988890</td>\n",
       "      <td>META</td>\n",
       "      <td>UPIA</td>\n",
       "      <td>2015-07-10</td>\n",
       "      <td>NaN</td>\n",
       "      <td>BARRANCA_DE_UPIA</td>\n",
       "    </tr>\n",
       "    <tr>\n",
       "      <th>...</th>\n",
       "      <td>...</td>\n",
       "      <td>...</td>\n",
       "      <td>...</td>\n",
       "      <td>...</td>\n",
       "      <td>...</td>\n",
       "      <td>...</td>\n",
       "      <td>...</td>\n",
       "    </tr>\n",
       "    <tr>\n",
       "      <th>157826</th>\n",
       "      <td>7.475428</td>\n",
       "      <td>-73.479924</td>\n",
       "      <td>CESAR</td>\n",
       "      <td>AGUAZUL</td>\n",
       "      <td>2024-05-02</td>\n",
       "      <td>NaN</td>\n",
       "      <td>FEDEARROZ_SAN_ALBERTO</td>\n",
       "    </tr>\n",
       "    <tr>\n",
       "      <th>157827</th>\n",
       "      <td>7.475428</td>\n",
       "      <td>-73.479924</td>\n",
       "      <td>CESAR</td>\n",
       "      <td>AGUAZUL</td>\n",
       "      <td>2024-05-03</td>\n",
       "      <td>NaN</td>\n",
       "      <td>FEDEARROZ_SAN_ALBERTO</td>\n",
       "    </tr>\n",
       "    <tr>\n",
       "      <th>157828</th>\n",
       "      <td>7.475428</td>\n",
       "      <td>-73.479924</td>\n",
       "      <td>CESAR</td>\n",
       "      <td>AGUAZUL</td>\n",
       "      <td>2024-05-04</td>\n",
       "      <td>0.0</td>\n",
       "      <td>FEDEARROZ_SAN_ALBERTO</td>\n",
       "    </tr>\n",
       "    <tr>\n",
       "      <th>157829</th>\n",
       "      <td>7.475428</td>\n",
       "      <td>-73.479924</td>\n",
       "      <td>CESAR</td>\n",
       "      <td>AGUAZUL</td>\n",
       "      <td>2024-05-05</td>\n",
       "      <td>0.0</td>\n",
       "      <td>FEDEARROZ_SAN_ALBERTO</td>\n",
       "    </tr>\n",
       "    <tr>\n",
       "      <th>157830</th>\n",
       "      <td>7.475428</td>\n",
       "      <td>-73.479924</td>\n",
       "      <td>CESAR</td>\n",
       "      <td>AGUAZUL</td>\n",
       "      <td>2024-05-06</td>\n",
       "      <td>0.0</td>\n",
       "      <td>FEDEARROZ_SAN_ALBERTO</td>\n",
       "    </tr>\n",
       "  </tbody>\n",
       "</table>\n",
       "<p>157831 rows × 7 columns</p>\n",
       "</div>"
      ],
      "text/plain": [
       "             lat        lon   dpto      mun       date  prec  \\\n",
       "0       4.393330 -72.988890   META     UPIA 2015-07-06   0.0   \n",
       "1       4.393330 -72.988890   META     UPIA 2015-07-07   0.0   \n",
       "2       4.393330 -72.988890   META     UPIA 2015-07-08   NaN   \n",
       "3       4.393330 -72.988890   META     UPIA 2015-07-09   NaN   \n",
       "4       4.393330 -72.988890   META     UPIA 2015-07-10   NaN   \n",
       "...          ...        ...    ...      ...        ...   ...   \n",
       "157826  7.475428 -73.479924  CESAR  AGUAZUL 2024-05-02   NaN   \n",
       "157827  7.475428 -73.479924  CESAR  AGUAZUL 2024-05-03   NaN   \n",
       "157828  7.475428 -73.479924  CESAR  AGUAZUL 2024-05-04   0.0   \n",
       "157829  7.475428 -73.479924  CESAR  AGUAZUL 2024-05-05   0.0   \n",
       "157830  7.475428 -73.479924  CESAR  AGUAZUL 2024-05-06   0.0   \n",
       "\n",
       "                      station  \n",
       "0            BARRANCA_DE_UPIA  \n",
       "1            BARRANCA_DE_UPIA  \n",
       "2            BARRANCA_DE_UPIA  \n",
       "3            BARRANCA_DE_UPIA  \n",
       "4            BARRANCA_DE_UPIA  \n",
       "...                       ...  \n",
       "157826  FEDEARROZ_SAN_ALBERTO  \n",
       "157827  FEDEARROZ_SAN_ALBERTO  \n",
       "157828  FEDEARROZ_SAN_ALBERTO  \n",
       "157829  FEDEARROZ_SAN_ALBERTO  \n",
       "157830  FEDEARROZ_SAN_ALBERTO  \n",
       "\n",
       "[157831 rows x 7 columns]"
      ]
     },
     "execution_count": 3,
     "metadata": {},
     "output_type": "execute_result"
    }
   ],
   "source": [
    "prec = pd.read_parquet('data/fedearroz_prec_diaria_2024.parquet')\n",
    "prec"
   ]
  },
  {
   "cell_type": "markdown",
   "id": "dfcb46de-927d-4700-a897-43972e37aeda",
   "metadata": {},
   "source": [
    "se saca el sumarize para iterar en chirps"
   ]
  },
  {
   "cell_type": "code",
   "execution_count": null,
   "id": "db4cac3d-c3c1-4c05-a7e4-79683a163740",
   "metadata": {},
   "outputs": [],
   "source": [
    "info = prec.groupby(['lat','lon','dpto','mun','station']).agg(\n",
    "    max_date = ('date','max'), \n",
    "    min_date=('date','min'),\n",
    "    porc_nan=('prec', lambda x: round(x.isna().mean() * 100, 2))\n",
    ").reset_index()\n"
   ]
  },
  {
   "cell_type": "markdown",
   "id": "840e9ac7-aa9f-43e1-b13a-0a43e2ab12ff",
   "metadata": {
    "tags": []
   },
   "source": [
    "## Extraction of info from Chirps"
   ]
  },
  {
   "cell_type": "code",
   "execution_count": 9,
   "id": "442b4d5d-ea76-45aa-869c-98b4df5fc7b7",
   "metadata": {
    "tags": []
   },
   "outputs": [
    {
     "name": "stdout",
     "output_type": "stream",
     "text": [
      "0\n",
      "15\n",
      "2024\n",
      "2.69814\n",
      "-75.29815\n",
      "-75.29815 2.69814\n",
      "{'startDt': '2024-01-01', 'endDt': '2024-03-01', 'lon': '-75.29815', 'lat': '2.69814', 'variableName': 'chirps-precipitation'}\n",
      "{'startDt': '2023-01-01', 'endDt': '2023-03-01', 'lon': '-75.29815', 'lat': '2.69814', 'variableName': 'chirps-precipitation'}\n",
      "/home/jupyter/getDataFromCubePoint.py:84: FutureWarning: Passing literal json to 'read_json' is deprecated and will be removed in a future version. To read from a literal string, wrap it in a 'StringIO' object.\n",
      "  df = pd.read_json(response.json(),orient='records')\n",
      "/home/jupyter/getDataFromCubePoint.py:84: FutureWarning: Passing literal json to 'read_json' is deprecated and will be removed in a future version. To read from a literal string, wrap it in a 'StringIO' object.\n",
      "  df = pd.read_json(response.json(),orient='records')\n",
      "Requested from 2023-01-01 to 2023-03-01\n",
      "Downloaded file saved to: None\n",
      "Requested from 2024-01-01 to 2024-03-01\n",
      "Downloaded file saved to: None\n"
     ]
    }
   ],
   "source": [
    "for index, row in info.head(1).iterrows():\n",
    "    print(index)\n",
    "    lat = round(row['lat'], 6)\n",
    "    lon = round(row['lon'], 6)\n",
    "    #star_month= row['max_date'].strftime('%m-%d')\n",
    "    #end_month= row['min_date'].strftime('%m-%d')\n",
    "    end_year= row['min_date'].strftime('%Y')\n",
    "    start_year= row['max_date'].strftime('%Y')\n",
    "    rest=int(start_year)-int(end_year)+2\n",
    "    print(rest)\n",
    "    print(start_year)\n",
    "    print(lat)\n",
    "    print(lon)\n",
    "    !python getDataFromCubePoint.py --startDate \"01-01\" --endDate \"12-31\" --variable \"chirps-precipitation\" --numberofyears {rest} --lastYear {start_year} --downloadpath \"/home/jupyter/chirps_data/\" --x {lon} --y {lat}\n",
    "    #!python getDataFromCubePoint.py --startDate \"01-01\" --endDate \"03-01\" --variable \"chirps-precipitation\" --numberofyears 2 --lastYear 2024 --downloadpath \"/home/jupyter/\" --x {lon} --y {lat}"
   ]
  },
  {
   "cell_type": "code",
   "execution_count": null,
   "id": "265ff372-13e4-463c-8c17-900bbeb26fc1",
   "metadata": {},
   "outputs": [],
   "source": [
    "hay un problema, dentro del csv la lat y lon no coincide con la que se paso en el request"
   ]
  },
  {
   "cell_type": "code",
   "execution_count": null,
   "id": "dc0f55f8-4282-49d7-a12a-dafd69ff2b27",
   "metadata": {},
   "outputs": [],
   "source": [
    "!python getDataFromCubePoint.py --startDate \"09-01\" --endDate \"09-01\" --variable \"chirps-precipitation\" --numberofyears 1 --lastYear 2023 --downloadpath \"/home/jupyter/chirps_data/\" --x -72.98889 --y 4.39333"
   ]
  }
 ],
 "metadata": {
  "environment": {
   "kernel": "conda-base-py",
   "name": "workbench-notebooks.m124",
   "type": "gcloud",
   "uri": "us-docker.pkg.dev/deeplearning-platform-release/gcr.io/workbench-notebooks:m124"
  },
  "kernelspec": {
   "display_name": "Python 3 (ipykernel) (Local)",
   "language": "python",
   "name": "conda-base-py"
  },
  "language_info": {
   "codemirror_mode": {
    "name": "ipython",
    "version": 3
   },
   "file_extension": ".py",
   "mimetype": "text/x-python",
   "name": "python",
   "nbconvert_exporter": "python",
   "pygments_lexer": "ipython3",
   "version": "3.10.14"
  }
 },
 "nbformat": 4,
 "nbformat_minor": 5
}
