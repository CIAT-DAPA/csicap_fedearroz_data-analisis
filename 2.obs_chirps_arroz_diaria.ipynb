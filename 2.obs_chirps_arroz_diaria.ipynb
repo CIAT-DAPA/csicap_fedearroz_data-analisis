{
 "cells": [
  {
   "cell_type": "markdown",
   "id": "3a1d22a0-5b04-4877-a13d-d78a546638dc",
   "metadata": {},
   "source": [
    "# merging of satellite and ground data"
   ]
  },
  {
   "cell_type": "code",
   "execution_count": 1,
   "id": "74507959-f388-43b6-8406-a96055725d8a",
   "metadata": {
    "tags": []
   },
   "outputs": [],
   "source": [
    "import pandas as pd\n",
    "import glob\n",
    "import os\n",
    "\n",
    "from geopy.distance import geodesic"
   ]
  },
  {
   "cell_type": "code",
   "execution_count": 2,
   "id": "3bdb3ab6-fd4a-4ae7-882e-15a3f0317d77",
   "metadata": {
    "tags": []
   },
   "outputs": [],
   "source": [
    "prec = pd.read_parquet('data/fedearroz_prec_diaria_2024.parquet')\n"
   ]
  },
  {
   "cell_type": "code",
   "execution_count": 3,
   "id": "cdd6c8ca-538a-4a04-9c16-9665a5a42f39",
   "metadata": {
    "tags": []
   },
   "outputs": [],
   "source": [
    "prec= prec.rename(columns={'lat':'latitud','lon':'longitud', 'prec':'precipitation'})\n",
    "prec['fuente']='ideam'"
   ]
  },
  {
   "cell_type": "markdown",
   "id": "3c23498f-6d4a-4684-b95a-9102e005debc",
   "metadata": {},
   "source": [
    "# Loading of satellital data"
   ]
  },
  {
   "cell_type": "code",
   "execution_count": 4,
   "id": "b649ee69-3df1-41f5-807c-07b5810a04e7",
   "metadata": {
    "tags": []
   },
   "outputs": [],
   "source": [
    "def generate_dates(start_date, end_date, num_rows):\n",
    "    date_range = pd.date_range(start=start_date, end=end_date, periods=num_rows)\n",
    "    return date_range"
   ]
  },
  {
   "cell_type": "code",
   "execution_count": 5,
   "id": "33141872-1bac-4e37-bb12-cbd22d257efc",
   "metadata": {
    "tags": []
   },
   "outputs": [],
   "source": [
    "file_pattern_chirps = \"./chirps_data/chirps-precipitation_*.csv\"\n",
    "files_chirps = glob.glob(file_pattern_chirps)\n",
    "\n",
    "file_pattern_agera5 = \"./agera5_data/agera5-precipitation_*.csv\"\n",
    "files_agera5 = glob.glob(file_pattern_agera5)\n",
    "\n",
    "\n",
    "files_combined = files_chirps + files_agera5"
   ]
  },
  {
   "cell_type": "code",
   "execution_count": 6,
   "id": "1af68125-19b3-4794-a3ae-fab80ccb1c58",
   "metadata": {
    "tags": []
   },
   "outputs": [
    {
     "data": {
      "text/plain": [
       "['./chirps_data/chirps-precipitation_-74.91457_4.72333_2020-01-01_2020-12-31.csv',\n",
       " './chirps_data/chirps-precipitation_-74.26311_10.62164_2015-01-01_2015-12-31.csv']"
      ]
     },
     "execution_count": 6,
     "metadata": {},
     "output_type": "execute_result"
    }
   ],
   "source": [
    "files_combined[:2]"
   ]
  },
  {
   "cell_type": "code",
   "execution_count": 7,
   "id": "f713a9e9-6171-4b4e-a734-e55de60f4bda",
   "metadata": {
    "tags": []
   },
   "outputs": [],
   "source": [
    "grouped_data = []\n",
    "\n",
    "for file in files_combined:\n",
    "    # Extraer la información del nombre del archivo\n",
    "    basename = os.path.basename(file)\n",
    "    parts = basename.replace('.csv', '').split('_')\n",
    "    #latitud y longitud si viene en el archivo\n",
    "    start_date = parts[3]\n",
    "    end_date = parts[4]\n",
    "    longitud=parts[1]\n",
    "    latitud=parts[2]\n",
    "    source=parts[0]\n",
    "    \n",
    "    df = pd.read_csv(file)\n",
    "    num_rows = len(df)\n",
    "    df = df.rename(columns={'precipitation': 'precipitation'})\n",
    "    df = df.rename(columns={'Precipitation_Flux': 'precipitation'})\n",
    "    df['date'] = generate_dates(start_date, end_date, num_rows)\n",
    "    df['longitud']=float(longitud)\n",
    "    df['latitud']=float(latitud)\n",
    "    df['fuente']=source\n",
    "    df=df[['longitud','latitud', 'date','precipitation','fuente']]\n",
    "    grouped_data.append(df)\n",
    "\n"
   ]
  },
  {
   "cell_type": "code",
   "execution_count": 8,
   "id": "6643be42-4271-4faf-8377-260d9754ff54",
   "metadata": {},
   "outputs": [
    {
     "data": {
      "text/html": [
       "<div>\n",
       "<style scoped>\n",
       "    .dataframe tbody tr th:only-of-type {\n",
       "        vertical-align: middle;\n",
       "    }\n",
       "\n",
       "    .dataframe tbody tr th {\n",
       "        vertical-align: top;\n",
       "    }\n",
       "\n",
       "    .dataframe thead th {\n",
       "        text-align: right;\n",
       "    }\n",
       "</style>\n",
       "<table border=\"1\" class=\"dataframe\">\n",
       "  <thead>\n",
       "    <tr style=\"text-align: right;\">\n",
       "      <th></th>\n",
       "      <th>longitud</th>\n",
       "      <th>latitud</th>\n",
       "      <th>date</th>\n",
       "      <th>precipitation</th>\n",
       "      <th>fuente</th>\n",
       "    </tr>\n",
       "  </thead>\n",
       "  <tbody>\n",
       "    <tr>\n",
       "      <th>0</th>\n",
       "      <td>-74.91457</td>\n",
       "      <td>4.72333</td>\n",
       "      <td>2020-01-01</td>\n",
       "      <td>0.00</td>\n",
       "      <td>chirps-precipitation</td>\n",
       "    </tr>\n",
       "    <tr>\n",
       "      <th>1</th>\n",
       "      <td>-74.91457</td>\n",
       "      <td>4.72333</td>\n",
       "      <td>2020-01-02</td>\n",
       "      <td>0.00</td>\n",
       "      <td>chirps-precipitation</td>\n",
       "    </tr>\n",
       "    <tr>\n",
       "      <th>2</th>\n",
       "      <td>-74.91457</td>\n",
       "      <td>4.72333</td>\n",
       "      <td>2020-01-03</td>\n",
       "      <td>0.00</td>\n",
       "      <td>chirps-precipitation</td>\n",
       "    </tr>\n",
       "    <tr>\n",
       "      <th>3</th>\n",
       "      <td>-74.91457</td>\n",
       "      <td>4.72333</td>\n",
       "      <td>2020-01-04</td>\n",
       "      <td>0.00</td>\n",
       "      <td>chirps-precipitation</td>\n",
       "    </tr>\n",
       "    <tr>\n",
       "      <th>4</th>\n",
       "      <td>-74.91457</td>\n",
       "      <td>4.72333</td>\n",
       "      <td>2020-01-05</td>\n",
       "      <td>0.00</td>\n",
       "      <td>chirps-precipitation</td>\n",
       "    </tr>\n",
       "    <tr>\n",
       "      <th>...</th>\n",
       "      <td>...</td>\n",
       "      <td>...</td>\n",
       "      <td>...</td>\n",
       "      <td>...</td>\n",
       "      <td>...</td>\n",
       "    </tr>\n",
       "    <tr>\n",
       "      <th>360</th>\n",
       "      <td>-74.76385</td>\n",
       "      <td>4.78134</td>\n",
       "      <td>2023-12-27</td>\n",
       "      <td>0.00</td>\n",
       "      <td>agera5-precipitation</td>\n",
       "    </tr>\n",
       "    <tr>\n",
       "      <th>361</th>\n",
       "      <td>-74.76385</td>\n",
       "      <td>4.78134</td>\n",
       "      <td>2023-12-28</td>\n",
       "      <td>0.22</td>\n",
       "      <td>agera5-precipitation</td>\n",
       "    </tr>\n",
       "    <tr>\n",
       "      <th>362</th>\n",
       "      <td>-74.76385</td>\n",
       "      <td>4.78134</td>\n",
       "      <td>2023-12-29</td>\n",
       "      <td>0.46</td>\n",
       "      <td>agera5-precipitation</td>\n",
       "    </tr>\n",
       "    <tr>\n",
       "      <th>363</th>\n",
       "      <td>-74.76385</td>\n",
       "      <td>4.78134</td>\n",
       "      <td>2023-12-30</td>\n",
       "      <td>1.04</td>\n",
       "      <td>agera5-precipitation</td>\n",
       "    </tr>\n",
       "    <tr>\n",
       "      <th>364</th>\n",
       "      <td>-74.76385</td>\n",
       "      <td>4.78134</td>\n",
       "      <td>2023-12-31</td>\n",
       "      <td>0.07</td>\n",
       "      <td>agera5-precipitation</td>\n",
       "    </tr>\n",
       "  </tbody>\n",
       "</table>\n",
       "<p>357180 rows × 5 columns</p>\n",
       "</div>"
      ],
      "text/plain": [
       "     longitud  latitud       date  precipitation                fuente\n",
       "0   -74.91457  4.72333 2020-01-01           0.00  chirps-precipitation\n",
       "1   -74.91457  4.72333 2020-01-02           0.00  chirps-precipitation\n",
       "2   -74.91457  4.72333 2020-01-03           0.00  chirps-precipitation\n",
       "3   -74.91457  4.72333 2020-01-04           0.00  chirps-precipitation\n",
       "4   -74.91457  4.72333 2020-01-05           0.00  chirps-precipitation\n",
       "..        ...      ...        ...            ...                   ...\n",
       "360 -74.76385  4.78134 2023-12-27           0.00  agera5-precipitation\n",
       "361 -74.76385  4.78134 2023-12-28           0.22  agera5-precipitation\n",
       "362 -74.76385  4.78134 2023-12-29           0.46  agera5-precipitation\n",
       "363 -74.76385  4.78134 2023-12-30           1.04  agera5-precipitation\n",
       "364 -74.76385  4.78134 2023-12-31           0.07  agera5-precipitation\n",
       "\n",
       "[357180 rows x 5 columns]"
      ]
     },
     "execution_count": 8,
     "metadata": {},
     "output_type": "execute_result"
    }
   ],
   "source": [
    "arroz_sat = pd.concat(grouped_data)\n",
    "arroz_sat['precipitation'] = arroz_sat['precipitation'].fillna(0)\n",
    "arroz_sat"
   ]
  },
  {
   "cell_type": "markdown",
   "id": "6f46a617-9754-4615-9677-6dffe832ea7e",
   "metadata": {},
   "source": [
    "def distance_cal(row):\n",
    "    # Coordenadas aproximadas (lat, lon)\n",
    "    coords_aprox = (row['lat'], row['lon'])\n",
    "    \n",
    "    # Coordenadas reales (latitud, longitud)\n",
    "    coords_reales = (row['latitud'], row['longitud'])\n",
    "    \n",
    "    # Calcular la distancia usando geodesic de geopy\n",
    "    distancia = geodesic(coords_aprox, coords_reales).kilometers\n",
    "    \n",
    "    return distancia\n",
    "\n",
    "\n",
    "df_unicos['distancia'] = df_unicos.apply(distance_cal, axis=1)\n",
    "\n",
    "df_unicos.head()\n"
   ]
  },
  {
   "cell_type": "code",
   "execution_count": 9,
   "id": "39c71f82-2880-437f-aa26-d9a8c6df67d5",
   "metadata": {
    "tags": []
   },
   "outputs": [
    {
     "data": {
      "text/plain": [
       "Index(['longitud', 'latitud', 'date', 'precipitation', 'fuente'], dtype='object')"
      ]
     },
     "execution_count": 9,
     "metadata": {},
     "output_type": "execute_result"
    }
   ],
   "source": [
    "arroz_sat.columns"
   ]
  },
  {
   "cell_type": "code",
   "execution_count": 10,
   "id": "af266e4f-cce8-4973-88ee-631491c13244",
   "metadata": {
    "tags": []
   },
   "outputs": [
    {
     "data": {
      "text/plain": [
       "Index(['latitud', 'longitud', 'dpto', 'mun', 'date', 'precipitation',\n",
       "       'station', 'evento_lluvia', 'fuente'],\n",
       "      dtype='object')"
      ]
     },
     "execution_count": 10,
     "metadata": {},
     "output_type": "execute_result"
    }
   ],
   "source": [
    "prec.columns"
   ]
  },
  {
   "cell_type": "code",
   "execution_count": 11,
   "id": "c7e5996b-1eee-486b-91a6-aaa7c158e438",
   "metadata": {
    "tags": []
   },
   "outputs": [
    {
     "data": {
      "text/html": [
       "<div>\n",
       "<style scoped>\n",
       "    .dataframe tbody tr th:only-of-type {\n",
       "        vertical-align: middle;\n",
       "    }\n",
       "\n",
       "    .dataframe tbody tr th {\n",
       "        vertical-align: top;\n",
       "    }\n",
       "\n",
       "    .dataframe thead th {\n",
       "        text-align: right;\n",
       "    }\n",
       "</style>\n",
       "<table border=\"1\" class=\"dataframe\">\n",
       "  <thead>\n",
       "    <tr style=\"text-align: right;\">\n",
       "      <th></th>\n",
       "      <th>longitud</th>\n",
       "      <th>latitud</th>\n",
       "      <th>date</th>\n",
       "      <th>precipitation</th>\n",
       "      <th>fuente</th>\n",
       "      <th>dpto</th>\n",
       "      <th>mun</th>\n",
       "      <th>station</th>\n",
       "    </tr>\n",
       "  </thead>\n",
       "  <tbody>\n",
       "    <tr>\n",
       "      <th>320653</th>\n",
       "      <td>-74.76385</td>\n",
       "      <td>4.78134</td>\n",
       "      <td>2023-12-27</td>\n",
       "      <td>0.00</td>\n",
       "      <td>agera5-precipitation</td>\n",
       "      <td>TOLIMA</td>\n",
       "      <td>AMBALEMA</td>\n",
       "      <td>FEDEARROZ_AMBALEMA_GAMBA</td>\n",
       "    </tr>\n",
       "    <tr>\n",
       "      <th>320654</th>\n",
       "      <td>-74.76385</td>\n",
       "      <td>4.78134</td>\n",
       "      <td>2023-12-28</td>\n",
       "      <td>0.22</td>\n",
       "      <td>agera5-precipitation</td>\n",
       "      <td>TOLIMA</td>\n",
       "      <td>AMBALEMA</td>\n",
       "      <td>FEDEARROZ_AMBALEMA_GAMBA</td>\n",
       "    </tr>\n",
       "    <tr>\n",
       "      <th>320655</th>\n",
       "      <td>-74.76385</td>\n",
       "      <td>4.78134</td>\n",
       "      <td>2023-12-29</td>\n",
       "      <td>0.46</td>\n",
       "      <td>agera5-precipitation</td>\n",
       "      <td>TOLIMA</td>\n",
       "      <td>AMBALEMA</td>\n",
       "      <td>FEDEARROZ_AMBALEMA_GAMBA</td>\n",
       "    </tr>\n",
       "    <tr>\n",
       "      <th>320656</th>\n",
       "      <td>-74.76385</td>\n",
       "      <td>4.78134</td>\n",
       "      <td>2023-12-30</td>\n",
       "      <td>1.04</td>\n",
       "      <td>agera5-precipitation</td>\n",
       "      <td>TOLIMA</td>\n",
       "      <td>AMBALEMA</td>\n",
       "      <td>FEDEARROZ_AMBALEMA_GAMBA</td>\n",
       "    </tr>\n",
       "    <tr>\n",
       "      <th>320657</th>\n",
       "      <td>-74.76385</td>\n",
       "      <td>4.78134</td>\n",
       "      <td>2023-12-31</td>\n",
       "      <td>0.07</td>\n",
       "      <td>agera5-precipitation</td>\n",
       "      <td>TOLIMA</td>\n",
       "      <td>AMBALEMA</td>\n",
       "      <td>FEDEARROZ_AMBALEMA_GAMBA</td>\n",
       "    </tr>\n",
       "  </tbody>\n",
       "</table>\n",
       "</div>"
      ],
      "text/plain": [
       "        longitud  latitud       date  precipitation                fuente  \\\n",
       "320653 -74.76385  4.78134 2023-12-27           0.00  agera5-precipitation   \n",
       "320654 -74.76385  4.78134 2023-12-28           0.22  agera5-precipitation   \n",
       "320655 -74.76385  4.78134 2023-12-29           0.46  agera5-precipitation   \n",
       "320656 -74.76385  4.78134 2023-12-30           1.04  agera5-precipitation   \n",
       "320657 -74.76385  4.78134 2023-12-31           0.07  agera5-precipitation   \n",
       "\n",
       "          dpto       mun                   station  \n",
       "320653  TOLIMA  AMBALEMA  FEDEARROZ_AMBALEMA_GAMBA  \n",
       "320654  TOLIMA  AMBALEMA  FEDEARROZ_AMBALEMA_GAMBA  \n",
       "320655  TOLIMA  AMBALEMA  FEDEARROZ_AMBALEMA_GAMBA  \n",
       "320656  TOLIMA  AMBALEMA  FEDEARROZ_AMBALEMA_GAMBA  \n",
       "320657  TOLIMA  AMBALEMA  FEDEARROZ_AMBALEMA_GAMBA  "
      ]
     },
     "execution_count": 11,
     "metadata": {},
     "output_type": "execute_result"
    }
   ],
   "source": [
    "arroz_info_sat = pd.merge(arroz_sat, prec[['latitud', 'longitud', 'dpto', 'mun', 'station']].drop_duplicates(keep='first').reset_index(drop=True),\n",
    "                            how='inner', on=['longitud', 'latitud'])\n",
    "arroz_info_sat.tail()"
   ]
  },
  {
   "cell_type": "code",
   "execution_count": 12,
   "id": "d75d891f-06f5-4fad-8f2c-98929999d56b",
   "metadata": {
    "tags": []
   },
   "outputs": [],
   "source": [
    "arroz_obs_sat = pd.concat([prec, arroz_info_sat], ignore_index=True)"
   ]
  },
  {
   "cell_type": "code",
   "execution_count": 13,
   "id": "7a17dc5d-9f52-45e7-a63e-2565f8e21969",
   "metadata": {
    "tags": []
   },
   "outputs": [
    {
     "data": {
      "text/html": [
       "<div>\n",
       "<style scoped>\n",
       "    .dataframe tbody tr th:only-of-type {\n",
       "        vertical-align: middle;\n",
       "    }\n",
       "\n",
       "    .dataframe tbody tr th {\n",
       "        vertical-align: top;\n",
       "    }\n",
       "\n",
       "    .dataframe thead th {\n",
       "        text-align: right;\n",
       "    }\n",
       "</style>\n",
       "<table border=\"1\" class=\"dataframe\">\n",
       "  <thead>\n",
       "    <tr style=\"text-align: right;\">\n",
       "      <th></th>\n",
       "      <th>latitud</th>\n",
       "      <th>longitud</th>\n",
       "      <th>dpto</th>\n",
       "      <th>mun</th>\n",
       "      <th>date</th>\n",
       "      <th>precipitation</th>\n",
       "      <th>station</th>\n",
       "      <th>evento_lluvia</th>\n",
       "      <th>fuente</th>\n",
       "    </tr>\n",
       "  </thead>\n",
       "  <tbody>\n",
       "    <tr>\n",
       "      <th>42206</th>\n",
       "      <td>3.82888</td>\n",
       "      <td>-73.68548</td>\n",
       "      <td>META</td>\n",
       "      <td>CASTILLA LA NUEVA</td>\n",
       "      <td>2015-01-11</td>\n",
       "      <td>4.00</td>\n",
       "      <td>FEDEARROZ_CASTILLA_LA_NUEVA_CAPACHOS</td>\n",
       "      <td>1.0</td>\n",
       "      <td>ideam</td>\n",
       "    </tr>\n",
       "    <tr>\n",
       "      <th>255722</th>\n",
       "      <td>3.82888</td>\n",
       "      <td>-73.68548</td>\n",
       "      <td>META</td>\n",
       "      <td>CASTILLA LA NUEVA</td>\n",
       "      <td>2015-01-11</td>\n",
       "      <td>0.00</td>\n",
       "      <td>FEDEARROZ_CASTILLA_LA_NUEVA_CAPACHOS</td>\n",
       "      <td>NaN</td>\n",
       "      <td>chirps-precipitation</td>\n",
       "    </tr>\n",
       "    <tr>\n",
       "      <th>443799</th>\n",
       "      <td>3.82888</td>\n",
       "      <td>-73.68548</td>\n",
       "      <td>META</td>\n",
       "      <td>CASTILLA LA NUEVA</td>\n",
       "      <td>2015-01-11</td>\n",
       "      <td>2.41</td>\n",
       "      <td>FEDEARROZ_CASTILLA_LA_NUEVA_CAPACHOS</td>\n",
       "      <td>NaN</td>\n",
       "      <td>agera5-precipitation</td>\n",
       "    </tr>\n",
       "  </tbody>\n",
       "</table>\n",
       "</div>"
      ],
      "text/plain": [
       "        latitud  longitud  dpto                mun       date  precipitation  \\\n",
       "42206   3.82888 -73.68548  META  CASTILLA LA NUEVA 2015-01-11           4.00   \n",
       "255722  3.82888 -73.68548  META  CASTILLA LA NUEVA 2015-01-11           0.00   \n",
       "443799  3.82888 -73.68548  META  CASTILLA LA NUEVA 2015-01-11           2.41   \n",
       "\n",
       "                                     station  evento_lluvia  \\\n",
       "42206   FEDEARROZ_CASTILLA_LA_NUEVA_CAPACHOS            1.0   \n",
       "255722  FEDEARROZ_CASTILLA_LA_NUEVA_CAPACHOS            NaN   \n",
       "443799  FEDEARROZ_CASTILLA_LA_NUEVA_CAPACHOS            NaN   \n",
       "\n",
       "                      fuente  \n",
       "42206                  ideam  \n",
       "255722  chirps-precipitation  \n",
       "443799  agera5-precipitation  "
      ]
     },
     "execution_count": 13,
     "metadata": {},
     "output_type": "execute_result"
    }
   ],
   "source": [
    "arroz_obs_sat[(arroz_obs_sat['longitud']==-73.68548) &\n",
    "                 (arroz_obs_sat['latitud']==3.82888)& (arroz_obs_sat['date']==pd.to_datetime('2015-01-11'))]"
   ]
  },
  {
   "cell_type": "code",
   "execution_count": 15,
   "id": "4652aec7-7d13-4768-a3f8-59b4913186aa",
   "metadata": {
    "tags": []
   },
   "outputs": [],
   "source": [
    "arroz_obs_sat.to_parquet('data/arroz_obs_sat.parquet')"
   ]
  }
 ],
 "metadata": {
  "environment": {
   "kernel": "conda-base-py",
   "name": "workbench-notebooks.m124",
   "type": "gcloud",
   "uri": "us-docker.pkg.dev/deeplearning-platform-release/gcr.io/workbench-notebooks:m124"
  },
  "kernelspec": {
   "display_name": "Python 3 (ipykernel) (Local)",
   "language": "python",
   "name": "conda-base-py"
  },
  "language_info": {
   "codemirror_mode": {
    "name": "ipython",
    "version": 3
   },
   "file_extension": ".py",
   "mimetype": "text/x-python",
   "name": "python",
   "nbconvert_exporter": "python",
   "pygments_lexer": "ipython3",
   "version": "3.10.14"
  }
 },
 "nbformat": 4,
 "nbformat_minor": 5
}
